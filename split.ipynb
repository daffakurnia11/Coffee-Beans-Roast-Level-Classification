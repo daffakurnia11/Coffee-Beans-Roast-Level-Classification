{
 "cells": [
  {
   "cell_type": "code",
   "execution_count": 1,
   "metadata": {},
   "outputs": [],
   "source": [
    "import os\n",
    "import shutil\n",
    "import random"
   ]
  },
  {
   "cell_type": "code",
   "execution_count": 2,
   "metadata": {},
   "outputs": [],
   "source": [
    "data_dir = './Augmentation/'\n",
    "train_dir = './Dataset/train'\n",
    "val_dir = './Dataset/val'\n",
    "test_dir = './Dataset/test'"
   ]
  },
  {
   "cell_type": "code",
   "execution_count": 3,
   "metadata": {},
   "outputs": [],
   "source": [
    "# Define the percentage split\n",
    "train_split = 0.6\n",
    "val_split = 0.2\n",
    "test_split = 0.2"
   ]
  },
  {
   "cell_type": "code",
   "execution_count": 4,
   "metadata": {},
   "outputs": [],
   "source": [
    "# Create the directories\n",
    "os.makedirs(train_dir)\n",
    "os.makedirs(val_dir)\n",
    "os.makedirs(test_dir)"
   ]
  },
  {
   "cell_type": "code",
   "execution_count": 5,
   "metadata": {},
   "outputs": [],
   "source": [
    "# Loop over the classes in the dataset\n",
    "for class_name in os.listdir(data_dir):\n",
    "    class_dir = os.path.join(data_dir, class_name)\n",
    "    train_class_dir = os.path.join(train_dir, class_name)\n",
    "    val_class_dir = os.path.join(val_dir, class_name)\n",
    "    test_class_dir = os.path.join(test_dir, class_name)\n",
    "    os.makedirs(train_class_dir)\n",
    "    os.makedirs(val_class_dir)\n",
    "    os.makedirs(test_class_dir)\n",
    "\n",
    "    # Get the filenames of the images in the class directory\n",
    "    filenames = os.listdir(class_dir)\n",
    "    num_files = len(filenames)\n",
    "\n",
    "    # Shuffle the filenames\n",
    "    random.shuffle(filenames)\n",
    "\n",
    "    # Split the filenames into training, validation, and testing sets\n",
    "    train_filenames = filenames[:int(train_split * num_files)]\n",
    "    val_filenames = filenames[int(train_split * num_files):int((train_split + val_split) * num_files)]\n",
    "    test_filenames = filenames[int((train_split + val_split) * num_files):]\n",
    "\n",
    "    # Copy the images to the appropriate directories\n",
    "    for filename in train_filenames:\n",
    "        src = os.path.join(class_dir, filename)\n",
    "        dst = os.path.join(train_class_dir, filename)\n",
    "        shutil.copyfile(src, dst)\n",
    "    for filename in val_filenames:\n",
    "        src = os.path.join(class_dir, filename)\n",
    "        dst = os.path.join(val_class_dir, filename)\n",
    "        shutil.copyfile(src, dst)\n",
    "    for filename in test_filenames:\n",
    "        src = os.path.join(class_dir, filename)\n",
    "        dst = os.path.join(test_class_dir, filename)\n",
    "        shutil.copyfile(src, dst)"
   ]
  }
 ],
 "metadata": {
  "kernelspec": {
   "display_name": ".venv",
   "language": "python",
   "name": "python3"
  },
  "language_info": {
   "codemirror_mode": {
    "name": "ipython",
    "version": 3
   },
   "file_extension": ".py",
   "mimetype": "text/x-python",
   "name": "python",
   "nbconvert_exporter": "python",
   "pygments_lexer": "ipython3",
   "version": "3.10.0"
  },
  "orig_nbformat": 4
 },
 "nbformat": 4,
 "nbformat_minor": 2
}
