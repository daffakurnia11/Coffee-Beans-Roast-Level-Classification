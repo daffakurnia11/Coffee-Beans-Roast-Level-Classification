{
 "cells": [
  {
   "cell_type": "code",
   "execution_count": 19,
   "metadata": {},
   "outputs": [],
   "source": [
    "from PIL import Image\n",
    "import os\n",
    "\n",
    "current_dir = (os.getcwd())\n",
    "\n",
    "def image_rotate(input_dir, filename, index, type):\n",
    "    output_dir = os.path.join(current_dir, f\"Augmentation\\\\{type}\\\\{type.lower()} ({index}){os.path.splitext(filename)[1]}\")\n",
    "    # Open Image\n",
    "    image = Image.open(input_dir)\n",
    "\n",
    "    # Rotate image\n",
    "    image = image.rotate(90)\n",
    "    \n",
    "    # Get the dimensions of the image\n",
    "    width, height = image.size\n",
    "\n",
    "    # Calculate the crop box dimensions (centered)\n",
    "    left = (width - width / 3) / 2\n",
    "    top = (height - height / 3) / 2\n",
    "    right = (width + width / 3) / 2\n",
    "    bottom = (height + height / 3) / 2\n",
    "\n",
    "    # Crop the image\n",
    "    # image = image.crop((left, top, right, bottom))\n",
    "\n",
    "    # Resize the image to be 256 x 256\n",
    "    image = image.resize((256, 256))\n",
    "\n",
    "    image.save(output_dir)\n",
    "    "
   ]
  },
  {
   "cell_type": "code",
   "execution_count": 20,
   "metadata": {},
   "outputs": [],
   "source": [
    "for index, filenames in enumerate(os.listdir(\"Source/Green\")):\n",
    "    image_dir = os.path.join(current_dir, f\"Source\\\\Green\", filenames)\n",
    "\n",
    "    image_rotate(image_dir, filenames, (index+1) + 1600, \"Green\")\n",
    "\n",
    "for index, filenames in enumerate(os.listdir(\"Source/Light\")):\n",
    "    image_dir = os.path.join(current_dir, f\"Source\\\\Light\", filenames)\n",
    "\n",
    "    image_rotate(image_dir, filenames, (index+1) + 1600, \"Light\")\n",
    "\n",
    "for index, filenames in enumerate(os.listdir(\"Source/Medium\")):\n",
    "    image_dir = os.path.join(current_dir, f\"Source\\\\Medium\", filenames)\n",
    "\n",
    "    image_rotate(image_dir, filenames, (index+1) + 1600, \"Medium\")\n",
    "\n",
    "for index, filenames in enumerate(os.listdir(\"Source/Dark\")):\n",
    "    image_dir = os.path.join(current_dir, f\"Source\\\\Dark\", filenames)\n",
    "\n",
    "    image_rotate(image_dir, filenames, (index+1) + 1600, \"Dark\")"
   ]
  }
 ],
 "metadata": {
  "kernelspec": {
   "display_name": ".venv",
   "language": "python",
   "name": "python3"
  },
  "language_info": {
   "codemirror_mode": {
    "name": "ipython",
    "version": 3
   },
   "file_extension": ".py",
   "mimetype": "text/x-python",
   "name": "python",
   "nbconvert_exporter": "python",
   "pygments_lexer": "ipython3",
   "version": "3.10.0"
  },
  "orig_nbformat": 4
 },
 "nbformat": 4,
 "nbformat_minor": 2
}
